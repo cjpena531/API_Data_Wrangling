{
 "cells": [
  {
   "cell_type": "markdown",
   "metadata": {
    "gradient": {
     "editing": false
    }
   },
   "source": [
    "This exercise will require you to pull some data from the Qunadl API. Qaundl is currently the most widely used aggregator of financial market data."
   ]
  },
  {
   "cell_type": "markdown",
   "metadata": {
    "gradient": {
     "editing": false
    }
   },
   "source": [
    "As a first step, you will need to register a free account on the http://www.quandl.com website."
   ]
  },
  {
   "cell_type": "markdown",
   "metadata": {
    "gradient": {
     "editing": false
    }
   },
   "source": [
    "After you register, you will be provided with a unique API key, that you should store:"
   ]
  },
  {
   "cell_type": "code",
   "execution_count": null,
   "metadata": {
    "gradient": {}
   },
   "outputs": [],
   "source": [
    "# Store the API key as a string - according to PEP8, constants are always named in all upper case\n",
    "API_KEY = 'BmpXcTFWbz4eue7a6L7H'"
   ]
  },
  {
   "cell_type": "markdown",
   "metadata": {
    "gradient": {
     "editing": false
    }
   },
   "source": [
    "Qaundl has a large number of data sources, but, unfortunately, most of them require a Premium subscription. Still, there are also a good number of free datasets."
   ]
  },
  {
   "cell_type": "markdown",
   "metadata": {
    "gradient": {
     "editing": false
    }
   },
   "source": [
    "For this mini project, we will focus on equities data from the Frankfurt Stock Exhange (FSE), which is available for free. We'll try and analyze the stock prices of a company called Carl Zeiss Meditec, which manufactures tools for eye examinations, as well as medical lasers for laser eye surgery: https://www.zeiss.com/meditec/int/home.html. The company is listed under the stock ticker AFX_X."
   ]
  },
  {
   "cell_type": "markdown",
   "metadata": {
    "gradient": {
     "editing": false
    }
   },
   "source": [
    "You can find the detailed Quandl API instructions here: https://docs.quandl.com/docs/time-series"
   ]
  },
  {
   "cell_type": "markdown",
   "metadata": {
    "gradient": {
     "editing": false
    }
   },
   "source": [
    "While there is a dedicated Python package for connecting to the Quandl API, we would prefer that you use the *requests* package, which can be easily downloaded using *pip* or *conda*. You can find the documentation for the package here: http://docs.python-requests.org/en/master/ "
   ]
  },
  {
   "cell_type": "markdown",
   "metadata": {
    "gradient": {
     "editing": false
    }
   },
   "source": [
    "Finally, apart from the *requests* package, you are encouraged to not use any third party Python packages, such as *pandas*, and instead focus on what's available in the Python Standard Library (the *collections* module might come in handy: https://pymotw.com/3/collections/).\n",
    "Also, since you won't have access to DataFrames, you are encouraged to us Python's native data structures - preferably dictionaries, though some questions can also be answered using lists.\n",
    "You can read more on these data structures here: https://docs.python.org/3/tutorial/datastructures.html"
   ]
  },
  {
   "cell_type": "markdown",
   "metadata": {
    "gradient": {
     "editing": false
    }
   },
   "source": [
    "Keep in mind that the JSON responses you will be getting from the API map almost one-to-one to Python's dictionaries. Unfortunately, they can be very nested, so make sure you read up on indexing dictionaries in the documentation provided above."
   ]
  },
  {
   "cell_type": "code",
   "execution_count": null,
   "metadata": {
    "gradient": {}
   },
   "outputs": [],
   "source": [
    "# First, import the relevant modules\n",
    "import requests\n",
    "import json"
   ]
  },
  {
   "cell_type": "code",
   "execution_count": null,
   "metadata": {
    "gradient": {}
   },
   "outputs": [
    {
     "name": "stdout",
     "output_type": "stream",
     "text": [
      "200\n"
     ]
    }
   ],
   "source": [
    "# Now, call the Quandl API and pull out a small sample of the data (only one day) to get a glimpse\n",
    "# into the JSON structure that will be returned\n",
    "url =  \"https://www.quandl.com/api/v3/datasets/FSE/AFX_X/data.json?start_date=2014-01-01&end_date=2014-01-03&api_key=BmpXcTFWbz4eue7a6L7H\"\n",
    "r = requests.get(url)\n",
    "print(r.status_code)\n",
    "data = json.loads(r.content.decode('utf-8'))"
   ]
  },
  {
   "cell_type": "code",
   "execution_count": null,
   "metadata": {
    "gradient": {}
   },
   "outputs": [
    {
     "name": "stdout",
     "output_type": "stream",
     "text": [
      "length of loaded data : 1\n",
      "keys of data_dict : dict_keys(['dataset_data'])\n",
      "length of dataset_data : 10\n",
      "data keys : dict_keys(['limit', 'transform', 'column_index', 'column_names', 'start_date', 'end_date', 'frequency', 'data', 'collapse', 'order'])\n"
     ]
    }
   ],
   "source": [
    "# Inspect the JSON structure of the object you created, and take note of how nested it is,\n",
    "# as well as the overall structure\n",
    "print(\"length of loaded data : \" + str(len(data)))\n",
    "print(\"keys of data_dict : \" + str(data.keys()))\n",
    "data = data['dataset_data']\n",
    "print(\"length of dataset_data : \" + str(len(data)))\n",
    "print(\"data keys : \" + str(data.keys()))"
   ]
  },
  {
   "cell_type": "code",
   "execution_count": null,
   "metadata": {
    "gradient": {}
   },
   "outputs": [
    {
     "name": "stdout",
     "output_type": "stream",
     "text": [
      "11 ['Date', 'Open', 'High', 'Low', 'Close', 'Change', 'Traded Volume', 'Turnover', 'Last Price of the Day', 'Daily Traded Units', 'Daily Turnover']\n",
      "\n",
      "11 ['2014-01-03', 24.04, 24.47, 24.03, 24.47, None, 20503.0, 499475.0, None, None, None]\n",
      "\n",
      "[['2014-01-03', 24.04, 24.47, 24.03, 24.47, None, 20503.0, 499475.0, None, None, None], ['2014-01-02', 24.24, 24.76, 23.77, 24.18, None, 55735.0, 1355658.0, None, None, None]]\n"
     ]
    }
   ],
   "source": [
    "print(len(data['column_names']), data['column_names'])\n",
    "print()\n",
    "print(len(data['data'][0]), data['data'][0])\n",
    "print()\n",
    "print(data['data'])"
   ]
  },
  {
   "cell_type": "code",
   "execution_count": null,
   "metadata": {
    "gradient": {}
   },
   "outputs": [
    {
     "data": {
      "text/plain": [
       "{'limit': None,\n",
       " 'transform': None,\n",
       " 'column_index': None,\n",
       " 'column_names': ['Date',\n",
       "  'Open',\n",
       "  'High',\n",
       "  'Low',\n",
       "  'Close',\n",
       "  'Change',\n",
       "  'Traded Volume',\n",
       "  'Turnover',\n",
       "  'Last Price of the Day',\n",
       "  'Daily Traded Units',\n",
       "  'Daily Turnover'],\n",
       " 'start_date': '2014-01-01',\n",
       " 'end_date': '2014-01-03',\n",
       " 'frequency': 'daily',\n",
       " 'data': [['2014-01-03',\n",
       "   24.04,\n",
       "   24.47,\n",
       "   24.03,\n",
       "   24.47,\n",
       "   None,\n",
       "   20503.0,\n",
       "   499475.0,\n",
       "   None,\n",
       "   None,\n",
       "   None],\n",
       "  ['2014-01-02',\n",
       "   24.24,\n",
       "   24.76,\n",
       "   23.77,\n",
       "   24.18,\n",
       "   None,\n",
       "   55735.0,\n",
       "   1355658.0,\n",
       "   None,\n",
       "   None,\n",
       "   None]],\n",
       " 'collapse': None,\n",
       " 'order': None}"
      ]
     },
     "execution_count": 6,
     "metadata": {},
     "output_type": "execute_result"
    }
   ],
   "source": [
    "data"
   ]
  },
  {
   "cell_type": "code",
   "execution_count": null,
   "metadata": {
    "gradient": {}
   },
   "outputs": [],
   "source": [
    "# We know that for each day there is a list in the data section. each element of the list corresponds \n",
    "# to the column names values"
   ]
  },
  {
   "cell_type": "markdown",
   "metadata": {
    "gradient": {
     "editing": false
    }
   },
   "source": [
    "These are your tasks for this mini project:\n",
    "\n",
    "1. Collect data from the Franfurt Stock Exchange, for the ticker AFX_X, for the whole year 2017 (keep in mind that the date format is YYYY-MM-DD).\n",
    "2. Convert the returned JSON object into a Python dictionary.\n",
    "3. Calculate what the highest and lowest opening prices were for the stock in this period.\n",
    "4. What was the largest change in any one day (based on High and Low price)?\n",
    "5. What was the largest change between any two days (based on Closing Price)?\n",
    "6. What was the average daily trading volume during this year?\n",
    "7. (Optional) What was the median trading volume during this year. (Note: you may need to implement your own function for calculating the median.)"
   ]
  },
  {
   "cell_type": "code",
   "execution_count": null,
   "metadata": {
    "gradient": {}
   },
   "outputs": [
    {
     "name": "stdout",
     "output_type": "stream",
     "text": [
      "200\n"
     ]
    }
   ],
   "source": [
    "# Problem 1\n",
    "# Collect data from the Franfurt Stock Exchange, for the ticker AFX_X,\n",
    "# for the whole year 2017 (keep in mind that the date format is YYYY-MM-DD).\n",
    "\n",
    "url =  \"https://www.quandl.com/api/v3/datasets/FSE/AFX_X/data.json?start_date=2017-01-01&end_date=2018-01-01&api_key=BmpXcTFWbz4eue7a6L7H\"\n",
    "r = requests.get(url)\n",
    "print(r.status_code)"
   ]
  },
  {
   "cell_type": "code",
   "execution_count": null,
   "metadata": {
    "gradient": {}
   },
   "outputs": [
    {
     "name": "stdout",
     "output_type": "stream",
     "text": [
      "<class 'dict'>\n"
     ]
    }
   ],
   "source": [
    "# Problem 2\n",
    "# Convert the returned JSON object into a Python dictionary.\n",
    "\n",
    "data = json.loads(r.content.decode('utf-8'))\n",
    "print(type(data))"
   ]
  },
  {
   "cell_type": "code",
   "execution_count": null,
   "metadata": {
    "gradient": {}
   },
   "outputs": [],
   "source": [
    "data = data['dataset_data']"
   ]
  },
  {
   "cell_type": "code",
   "execution_count": null,
   "metadata": {
    "gradient": {}
   },
   "outputs": [
    {
     "data": {
      "text/plain": [
       "['2017-12-29',\n",
       " 51.76,\n",
       " 51.94,\n",
       " 51.45,\n",
       " 51.76,\n",
       " None,\n",
       " 34640.0,\n",
       " 1792304.0,\n",
       " None,\n",
       " None,\n",
       " None]"
      ]
     },
     "execution_count": 11,
     "metadata": {},
     "output_type": "execute_result"
    }
   ],
   "source": [
    "data['data'][0]"
   ]
  },
  {
   "cell_type": "code",
   "execution_count": null,
   "metadata": {
    "gradient": {}
   },
   "outputs": [
    {
     "name": "stdout",
     "output_type": "stream",
     "text": [
      "{'highest_opening_price': 52.28, 'lowest_opening_price': 34.99}\n"
     ]
    }
   ],
   "source": [
    "# Problem 3\n",
    "# Calculate what the highest and lowest opening prices were for the stock in this period.\n",
    "\n",
    "highest = data['data'][0][1]\n",
    "lowest = data['data'][0][1]\n",
    "ans = {}\n",
    "for day in data['data']:\n",
    "    opening_price = day[1]\n",
    "    if (opening_price):\n",
    "        if opening_price >= highest:\n",
    "            ans['highest_opening_price'] = opening_price\n",
    "        if opening_price <= lowest:\n",
    "            ans['lowest_opening_price'] = opening_price\n",
    "print(ans)"
   ]
  },
  {
   "cell_type": "code",
   "execution_count": null,
   "metadata": {
    "gradient": {}
   },
   "outputs": [
    {
     "name": "stdout",
     "output_type": "stream",
     "text": [
      "2.8100000000000023\n"
     ]
    }
   ],
   "source": [
    "# Problem 4\n",
    "# What was the largest change in any one day (based on High and Low price)?\n",
    "\n",
    "largest_change = data['data'][0][2] - data['data'][0][3] # High - Low\n",
    "for day in data['data']:\n",
    "    high = day[2]\n",
    "    low = day[3]\n",
    "    if (high != None and low != None):\n",
    "        change = high - low\n",
    "        if (change >= largest_change):\n",
    "            largest_change = change\n",
    "print(largest_change)"
   ]
  },
  {
   "cell_type": "code",
   "execution_count": null,
   "metadata": {
    "gradient": {}
   },
   "outputs": [
    {
     "name": "stdout",
     "output_type": "stream",
     "text": [
      "19.03\n"
     ]
    }
   ],
   "source": [
    "# Problem 5\n",
    "# What was the largest change between any two days (based on Closing Price)?\n",
    "\n",
    "highest = data['data'][0][4]\n",
    "lowest = data['data'][0][4]\n",
    "change = 0\n",
    "for day in data['data']:\n",
    "    closing_price = day[4]\n",
    "    if (closing_price):\n",
    "        if closing_price >= highest:\n",
    "            highest = closing_price\n",
    "        if closing_price <= lowest:\n",
    "            lowest = closing_price\n",
    "change = highest - lowest\n",
    "print(change)"
   ]
  },
  {
   "cell_type": "code",
   "execution_count": null,
   "metadata": {
    "gradient": {}
   },
   "outputs": [
    {
     "name": "stdout",
     "output_type": "stream",
     "text": [
      "1.7199999999999989\n"
     ]
    }
   ],
   "source": [
    "# Not sure if it meant this though so...\n",
    "\n",
    "closing_prices = []\n",
    "for day in data['data']:\n",
    "    closing_price = day[4]\n",
    "    if (closing_price):\n",
    "        closing_prices.append(closing_price)\n",
    "        \n",
    "closing_changes = [j-k for j,k in zip(closing_prices[:-1], closing_prices[1:])]\n",
    "max_closing_change = max(closing_changes)\n",
    "print(max_closing_change)"
   ]
  },
  {
   "cell_type": "code",
   "execution_count": null,
   "metadata": {
    "gradient": {}
   },
   "outputs": [
    {
     "name": "stdout",
     "output_type": "stream",
     "text": [
      "89124.33725490196\n"
     ]
    }
   ],
   "source": [
    "# Problem 6\n",
    "# What was the average daily trading volume during this year?\n",
    "\n",
    "trade_vols = [day[6] for day in data['data'] if (day[6])]\n",
    "sum_trade_vols = sum(trade_vols)\n",
    "avg_trade_vols = sum_trade_vols / len(trade_vols)\n",
    "print(avg_trade_vols)"
   ]
  },
  {
   "cell_type": "code",
   "execution_count": null,
   "metadata": {
    "gradient": {}
   },
   "outputs": [
    {
     "name": "stdout",
     "output_type": "stream",
     "text": [
      "76286.0\n"
     ]
    }
   ],
   "source": [
    "# Problem 7\n",
    "# (Optional) What was the median trading volume during this year. \n",
    "# (Note: you may need to implement your own function for calculating the median.)\n",
    "\n",
    "sorted_trade_vols = sorted(trade_vols)\n",
    "num_vals = len(sorted_trade_vols)\n",
    "median = None\n",
    "if num_vals % 2 == 1:\n",
    "    idx = (num_vals - 1) / 2\n",
    "    median = sorted_trade_vols[int(idx)]\n",
    "else:\n",
    "    idx1 = num_vals / 2\n",
    "    idx2 = idx1 - 1\n",
    "    median = (sorted_trade_vols[int(idx1)] + sorted_trade_vols[int(idx2)]) / 2\n",
    "print(median)"
   ]
  },
  {
   "cell_type": "code",
   "execution_count": null,
   "metadata": {
    "gradient": {}
   },
   "outputs": [],
   "source": []
  }
 ],
 "metadata": {
  "kernelspec": {
   "display_name": "Python 3",
   "language": "python",
   "name": "python3"
  },
  "language_info": {
   "codemirror_mode": {
    "name": "ipython",
    "version": 3
   },
   "file_extension": ".py",
   "mimetype": "text/x-python",
   "name": "python",
   "nbconvert_exporter": "python",
   "pygments_lexer": "ipython3",
   "version": "3.7.9"
  }
 },
 "nbformat": 4,
 "nbformat_minor": 4
}
